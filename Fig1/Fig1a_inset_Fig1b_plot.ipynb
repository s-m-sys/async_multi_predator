{
 "cells": [
  {
   "cell_type": "code",
   "execution_count": null,
   "id": "46d3896a",
   "metadata": {},
   "outputs": [],
   "source": [
    "import matplotlib.pyplot as plt\n",
    "import numpy as np\n",
    "import seaborn as sns\n",
    "import pandas as pd"
   ]
  },
  {
   "cell_type": "markdown",
   "id": "bbd0558f",
   "metadata": {},
   "source": [
    "### Fig.1a insets"
   ]
  },
  {
   "cell_type": "code",
   "execution_count": null,
   "id": "b2595fec",
   "metadata": {},
   "outputs": [],
   "source": [
    "dia_prey = 2*0.0136\n",
    "pred_rad = 4*0.0136\n",
    "epsi = 1e-5\n",
    "L = 2.5\n",
    "\n",
    "for inset in np.arange(1,4,1):\n",
    "    filename = \"Fig1_data/Fig1a_insets/inset{:d}_data.txt\".format(inset)\n",
    "\n",
    "    df = pd.read_csv(filename, names=['id', 'x', 'y', 'r'], delimiter='\\t')\n",
    "    posx = df['x']/dia_prey\n",
    "    posy = df['y']/dia_prey\n",
    "    part_id = df['id']\n",
    "    r = df['r']\n",
    "\n",
    "    posx_pred = posx[(part_id > 0) & (r > pred_rad-epsi)]\n",
    "    posy_pred = posy[(part_id > 0) & (r > pred_rad-epsi)]\n",
    "    \n",
    "    posx = posx[(part_id > 0) & (r < pred_rad-epsi)]\n",
    "    posy = posy[(part_id > 0) & (r < pred_rad-epsi)]\n",
    "    \n",
    "    df_prey = pd.DataFrame(data=np.column_stack((posx,posy)), columns=['x', 'y'], dtype=float)\n",
    "\n",
    "    g = sns.JointGrid(data=df_prey, x=\"x\", y=\"y\", xlim=(0,92), ylim=(0,92))\n",
    "\n",
    "    g.plot_joint(plt.hexbin, bins='log', gridsize=30, cmap=\"Blues\", extent=[0, np.max(posy), 0, np.max(posy)])\n",
    "    plt.scatter(posx_pred, posy_pred, s=100, c=[\"black\", \"red\"])\n",
    "\n",
    "    outfile = \"Fig1a_inset{:d}.eps\".format(inset)\n",
    "\n",
    "    g.savefig(outfile, dpi=600)\n",
    "    plt.close('all')"
   ]
  },
  {
   "cell_type": "markdown",
   "id": "ed376be2",
   "metadata": {},
   "source": [
    "### Fig.1b"
   ]
  },
  {
   "cell_type": "code",
   "execution_count": null,
   "id": "48273181",
   "metadata": {},
   "outputs": [],
   "source": [
    "pred_rad = 4*0.0136\n",
    "epsi = 1e-5\n",
    "L = 2.5\n",
    "\n",
    "df = pd.read_csv(\"Fig1_data/Fig1b_data.txt\", names=['id', 'x', 'y', 'r'], delimiter='\\t')\n",
    "posx = df['x']/dia_prey\n",
    "posy = df['y']/dia_prey\n",
    "part_id = df['id']\n",
    "r = df['r']\n",
    "\n",
    "posx_pred = posx[(part_id > 0) & (r > pred_rad-epsi)]\n",
    "posy_pred = posy[(part_id > 0) & (r > pred_rad-epsi)]\n",
    "    \n",
    "posx = posx[(part_id > 0) & (r < pred_rad-epsi)]\n",
    "posy = posy[(part_id > 0) & (r < pred_rad-epsi)]\n",
    "    \n",
    "df_prey = pd.DataFrame(data=np.column_stack((posx,posy)), columns=['x', 'y'], dtype=float)\n",
    "\n",
    "plt.close('all')\n",
    "g = sns.JointGrid(data=df_prey, x=\"x\", y=\"y\", xlim=(0,92), ylim=(0,92))\n",
    "\n",
    "g.plot_joint(plt.hexbin, bins='log', gridsize=30, cmap=\"Blues\", extent=[0, np.max(posy), 0, np.max(posy)])\n",
    "plt.scatter(posx_pred, posy_pred, s=100, c=[\"black\", \"red\"])\n",
    "\n",
    "g.savefig(\"Fig1b.eps\", dpi=600)"
   ]
  },
  {
   "cell_type": "code",
   "execution_count": null,
   "id": "5ee4b742",
   "metadata": {},
   "outputs": [],
   "source": []
  }
 ],
 "metadata": {
  "kernelspec": {
   "display_name": "Python 3 (ipykernel)",
   "language": "python",
   "name": "python3"
  },
  "language_info": {
   "codemirror_mode": {
    "name": "ipython",
    "version": 3
   },
   "file_extension": ".py",
   "mimetype": "text/x-python",
   "name": "python",
   "nbconvert_exporter": "python",
   "pygments_lexer": "ipython3",
   "version": "3.8.10"
  }
 },
 "nbformat": 4,
 "nbformat_minor": 5
}
