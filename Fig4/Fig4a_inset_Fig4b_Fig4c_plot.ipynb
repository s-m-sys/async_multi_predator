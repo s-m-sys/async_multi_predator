{
 "cells": [
  {
   "cell_type": "code",
   "execution_count": null,
   "id": "89fe3cfd",
   "metadata": {},
   "outputs": [],
   "source": [
    "import matplotlib.pyplot as plt\n",
    "import numpy as np\n",
    "import seaborn as sns\n",
    "import pandas as pd"
   ]
  },
  {
   "cell_type": "markdown",
   "id": "c71ed9b6",
   "metadata": {},
   "source": [
    "### Fig.4a insets"
   ]
  },
  {
   "cell_type": "code",
   "execution_count": null,
   "id": "88d99bc2",
   "metadata": {},
   "outputs": [],
   "source": [
    "pred_rad = 4*0.0136\n",
    "epsi = 1e-5\n",
    "L = 2.5\n",
    "\n",
    "for inset in np.arange(1,4,1):\n",
    "    filename = \"Fig4_data/Fig4a_insets/inset{:d}_data.txt\".format(inset)\n",
    "\n",
    "    df = pd.read_csv(filename, names=['id', 'x', 'y', 'r'], delimiter='\\t')\n",
    "    posx = df['x']/L\n",
    "    posy = df['y']/L\n",
    "    part_id = df['id']\n",
    "    r = df['r']\n",
    "\n",
    "    posx_pred = posx[(part_id > 0) & (r > pred_rad-epsi)]\n",
    "    posy_pred = posy[(part_id > 0) & (r > pred_rad-epsi)]\n",
    "    \n",
    "    posx = posx[(part_id > 0) & (r < pred_rad-epsi)]\n",
    "    posy = posy[(part_id > 0) & (r < pred_rad-epsi)]\n",
    "    \n",
    "    df_prey = pd.DataFrame(data=np.column_stack((posx,posy)), columns=['x', 'y'], dtype=float)\n",
    "\n",
    "    g = sns.JointGrid(data=df_prey, x=\"x\", y=\"y\", xlim=(0,1), ylim=(0,1))\n",
    "\n",
    "    g.plot_joint(plt.hexbin, bins='log', gridsize=30, cmap=\"Blues\", extent=[0, np.max(posy), 0, np.max(posy)])\n",
    "    plt.scatter(posx_pred, posy_pred, s=100, c=[\"black\", \"red\"])\n",
    "\n",
    "    outfile = \"Fig4a_inset{:d}.eps\".format(inset)\n",
    "\n",
    "    g.savefig(outfile, dpi=600)\n",
    "    plt.close('all')"
   ]
  },
  {
   "cell_type": "markdown",
   "id": "e5cc304f",
   "metadata": {},
   "source": [
    "### Fig.4c"
   ]
  },
  {
   "cell_type": "code",
   "execution_count": null,
   "id": "2d0b5e33",
   "metadata": {},
   "outputs": [],
   "source": [
    "pred_rad = 4*0.0136\n",
    "epsi = 1e-5\n",
    "L = 2.5\n",
    "\n",
    "df = pd.read_csv(\"Fig4_data/Fig4c_data.txt\", names=['id', 'x', 'y', 'r'], delimiter='\\t')\n",
    "posx = df['x']/L\n",
    "posy = df['y']/L\n",
    "part_id = df['id']\n",
    "r = df['r']\n",
    "\n",
    "posx_pred = posx[(part_id > 0) & (r > pred_rad-epsi)]\n",
    "posy_pred = posy[(part_id > 0) & (r > pred_rad-epsi)]\n",
    "    \n",
    "posx = posx[(part_id > 0) & (r < pred_rad-epsi)]\n",
    "posy = posy[(part_id > 0) & (r < pred_rad-epsi)]\n",
    "    \n",
    "df_prey = pd.DataFrame(data=np.column_stack((posx,posy)), columns=['x', 'y'], dtype=float)\n",
    "\n",
    "g = sns.JointGrid(data=df_prey, x=\"x\", y=\"y\", xlim=(0,1), ylim=(0,1))\n",
    "\n",
    "g.plot_joint(plt.hexbin, bins='log', gridsize=30, cmap=\"Blues\", extent=[0, np.max(posy), 0, np.max(posy)])\n",
    "plt.scatter(posx_pred, posy_pred, s=100, c=[\"black\", \"red\"])\n",
    "\n",
    "g.savefig(\"Fig4c.eps\", dpi=600)"
   ]
  },
  {
   "cell_type": "markdown",
   "id": "486fe8d3",
   "metadata": {},
   "source": [
    "### Fig.4b"
   ]
  },
  {
   "cell_type": "code",
   "execution_count": null,
   "id": "1c148c89",
   "metadata": {},
   "outputs": [],
   "source": [
    "pred_rad = 4*0.0136\n",
    "epsi = 1e-5\n",
    "L = 2.5\n",
    "\n",
    "df = pd.read_csv(\"Fig4_data/Fig4b_data.txt\", names=['id', 'x', 'y', 'r'], delimiter='\\t')\n",
    "posx = df['x']/L\n",
    "posy = df['y']/L\n",
    "part_id = df['id']\n",
    "r = df['r']\n",
    "\n",
    "posx_pred = posx[(part_id > 0) & (r > pred_rad-epsi)]\n",
    "posy_pred = posy[(part_id > 0) & (r > pred_rad-epsi)]\n",
    "    \n",
    "posx = posx[(part_id > 0) & (r < pred_rad-epsi)]\n",
    "posy = posy[(part_id > 0) & (r < pred_rad-epsi)]\n",
    "    \n",
    "df_prey = pd.DataFrame(data=np.column_stack((posx,posy)), columns=['x', 'y'], dtype=float)\n",
    "\n",
    "plt.close('all')\n",
    "g = sns.JointGrid(data=df_prey, x=\"x\", y=\"y\", xlim=(0,1), ylim=(0,1))\n",
    "\n",
    "g.plot_joint(plt.hexbin, bins='log', gridsize=30, cmap=\"Blues\", extent=[0, np.max(posy), 0, np.max(posy)])\n",
    "plt.scatter(posx_pred, posy_pred, s=100, c=[\"black\", \"red\"])\n",
    "\n",
    "g.savefig(\"Fig4b.eps\", dpi=600)"
   ]
  },
  {
   "cell_type": "code",
   "execution_count": null,
   "id": "2fcef432",
   "metadata": {},
   "outputs": [],
   "source": []
  }
 ],
 "metadata": {
  "kernelspec": {
   "display_name": "Python 3 (ipykernel)",
   "language": "python",
   "name": "python3"
  },
  "language_info": {
   "codemirror_mode": {
    "name": "ipython",
    "version": 3
   },
   "file_extension": ".py",
   "mimetype": "text/x-python",
   "name": "python",
   "nbconvert_exporter": "python",
   "pygments_lexer": "ipython3",
   "version": "3.8.10"
  }
 },
 "nbformat": 4,
 "nbformat_minor": 5
}
