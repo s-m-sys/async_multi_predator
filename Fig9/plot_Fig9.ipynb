{
 "cells": [
  {
   "cell_type": "code",
   "execution_count": null,
   "id": "258665f8",
   "metadata": {},
   "outputs": [],
   "source": [
    "import matplotlib.pyplot as plt\n",
    "import numpy as np\n",
    "import seaborn as sns\n",
    "import pandas as pd"
   ]
  },
  {
   "cell_type": "code",
   "execution_count": null,
   "id": "2075b813",
   "metadata": {
    "scrolled": false
   },
   "outputs": [],
   "source": [
    "for file in [\"I\",\"II\",\"III\"]:\n",
    "    filename = \"9\"+file+\"_hsuccess.txt\"\n",
    "    dat_success = pd.read_csv(filename, names=['S/FS'])\n",
    "    dat_success['outcome'] = \"s\"\n",
    "    filename = \"9\"+file+\"_hfail.txt\"\n",
    "    dat_fail = pd.read_csv(filename, names=['S/FS'])\n",
    "    dat_fail['outcome'] = \"f\"\n",
    "\n",
    "    dat = pd.concat([dat_success, dat_fail], ignore_index=True)\n",
    "\n",
    "    sns.set_theme(style=\"ticks\")\n",
    "    f, ax = plt.subplots(figsize=(8, 6))\n",
    "\n",
    "    sns.histplot(dat, y=\"S/FS\", hue=\"outcome\", multiple=\"stack\", palette=\"coolwarm\", edgecolor=\"0.3\", linewidth=0.5, bins=50, stat='percent')\n",
    "    \n",
    "    outfile = \"9a_\"+file+\".eps\"\n",
    "    plt.savefig(outfile, format='eps', dpi=600)\n",
    "    plt.close()"
   ]
  },
  {
   "cell_type": "code",
   "execution_count": null,
   "id": "a306abc6",
   "metadata": {},
   "outputs": [],
   "source": [
    "for file in [\"I\", \"II\", \"III\"]:\n",
    "    filename = \"9\"+file+\"_ht_distro.txt\"\n",
    "    df = pd.read_csv(filename, names=['cluster', 'ht'], delimiter='\\t')\n",
    "    df['cluster'] = df['cluster']\n",
    "\n",
    "    sns.set_theme(style=\"ticks\")\n",
    "\n",
    "    g = sns.JointGrid(data=df, y=\"cluster\", x=\"ht\", marginal_ticks=True, xlim=(0, 20.0), ylim=(0, 1), space=0.5)\n",
    "    g.plot_joint(sns.histplot, cbar=True)\n",
    "    g.plot_marginals(sns.histplot, element=\"step\", color=\"#03012d\")\n",
    "    \n",
    "    outfile = \"9b_\"+file+\".eps\"\n",
    "    g.savefig(outfile, dpi=600)"
   ]
  },
  {
   "cell_type": "code",
   "execution_count": null,
   "id": "a135e4b9",
   "metadata": {},
   "outputs": [],
   "source": []
  }
 ],
 "metadata": {
  "kernelspec": {
   "display_name": "Python 3 (ipykernel)",
   "language": "python",
   "name": "python3"
  },
  "language_info": {
   "codemirror_mode": {
    "name": "ipython",
    "version": 3
   },
   "file_extension": ".py",
   "mimetype": "text/x-python",
   "name": "python",
   "nbconvert_exporter": "python",
   "pygments_lexer": "ipython3",
   "version": "3.8.10"
  }
 },
 "nbformat": 4,
 "nbformat_minor": 5
}
