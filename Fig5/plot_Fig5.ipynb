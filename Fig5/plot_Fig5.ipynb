{
 "cells": [
  {
   "cell_type": "code",
   "execution_count": null,
   "id": "f64a3578",
   "metadata": {},
   "outputs": [],
   "source": [
    "import matplotlib.pyplot as plt\n",
    "import numpy as np\n",
    "import seaborn as sns\n",
    "import pandas as pd\n",
    "import math"
   ]
  },
  {
   "cell_type": "markdown",
   "id": "f07aecdc",
   "metadata": {},
   "source": [
    "### Fig. 5a"
   ]
  },
  {
   "cell_type": "code",
   "execution_count": null,
   "id": "ed447ea0",
   "metadata": {
    "scrolled": false
   },
   "outputs": [],
   "source": [
    "for file in [\"I\",\"II\",\"III\"]:\n",
    "    filename = \"5a_\"+file+\"_hsuccess.txt\"\n",
    "    dat_success = pd.read_csv(filename, names=['S/FS'])\n",
    "    dat_success['outcome'] = \"s\"\n",
    "    filename = \"5a_\"+file+\"_hfail.txt\"\n",
    "    dat_fail = pd.read_csv(filename, names=['S/FS'])\n",
    "    dat_fail['outcome'] = \"f\"\n",
    "\n",
    "    dat = pd.concat([dat_success, dat_fail], ignore_index=True)\n",
    "\n",
    "    sns.set_theme(style=\"ticks\")\n",
    "    f, ax = plt.subplots(figsize=(8, 6))\n",
    "\n",
    "    sns.histplot(dat, y=\"S/FS\", hue=\"outcome\", multiple=\"stack\", palette=\"coolwarm\", edgecolor=\"0.3\", linewidth=0.5, bins=50, stat='percent')\n",
    "    \n",
    "    outfile = \"5a_\"+file+\".eps\"\n",
    "    plt.savefig(outfile, format='eps', dpi=600)\n",
    "    plt.close()"
   ]
  },
  {
   "cell_type": "markdown",
   "id": "76b8fd92",
   "metadata": {},
   "source": [
    "### Fig. 5b"
   ]
  },
  {
   "cell_type": "code",
   "execution_count": null,
   "id": "5648d330",
   "metadata": {},
   "outputs": [],
   "source": [
    "for file in [\"I\",\"II\",\"III\"]:\n",
    "    filename = \"5b_\"+file+\"_hsuccess.txt\"\n",
    "    dat_success = pd.read_csv(filename, names=['S/FS'])\n",
    "    dat_success['outcome'] = \"s\"\n",
    "    filename = \"5b_\"+file+\"_hfail.txt\"\n",
    "    dat_fail = pd.read_csv(filename, names=['S/FS'])\n",
    "    dat_fail['outcome'] = \"f\"\n",
    "\n",
    "    dat = pd.concat([dat_success, dat_fail], ignore_index=True)\n",
    "\n",
    "    sns.set_theme(style=\"ticks\")\n",
    "    f, ax = plt.subplots(figsize=(8, 6))\n",
    "\n",
    "    sns.histplot(dat, y=\"S/FS\", hue=\"outcome\", multiple=\"stack\", palette=\"coolwarm\", edgecolor=\"0.3\", linewidth=0.5, bins=50, stat='percent')\n",
    "    \n",
    "    outfile = \"5b_\"+file+\".eps\"\n",
    "    plt.savefig(outfile, format='eps', dpi=600)\n",
    "    plt.close()"
   ]
  },
  {
   "cell_type": "code",
   "execution_count": null,
   "id": "fa362f17",
   "metadata": {},
   "outputs": [],
   "source": []
  }
 ],
 "metadata": {
  "kernelspec": {
   "display_name": "Python 3 (ipykernel)",
   "language": "python",
   "name": "python3"
  },
  "language_info": {
   "codemirror_mode": {
    "name": "ipython",
    "version": 3
   },
   "file_extension": ".py",
   "mimetype": "text/x-python",
   "name": "python",
   "nbconvert_exporter": "python",
   "pygments_lexer": "ipython3",
   "version": "3.8.10"
  }
 },
 "nbformat": 4,
 "nbformat_minor": 5
}
